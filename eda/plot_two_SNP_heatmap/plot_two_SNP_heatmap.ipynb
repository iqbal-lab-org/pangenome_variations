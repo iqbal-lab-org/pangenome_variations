{
 "cells": [
  {
   "cell_type": "code",
   "execution_count": 77,
   "metadata": {},
   "outputs": [],
   "source": [
    "import pandas as pd\n",
    "import numpy as np\n",
    "import matplotlib.pyplot as plt\n",
    "import seaborn as sns; sns.set_theme()"
   ]
  },
  {
   "cell_type": "code",
   "execution_count": 59,
   "metadata": {},
   "outputs": [
    {
     "data": {
      "text/html": [
       "<div>\n",
       "<style scoped>\n",
       "    .dataframe tbody tr th:only-of-type {\n",
       "        vertical-align: middle;\n",
       "    }\n",
       "\n",
       "    .dataframe tbody tr th {\n",
       "        vertical-align: top;\n",
       "    }\n",
       "\n",
       "    .dataframe thead th {\n",
       "        text-align: right;\n",
       "    }\n",
       "</style>\n",
       "<table border=\"1\" class=\"dataframe\">\n",
       "  <thead>\n",
       "    <tr style=\"text-align: right;\">\n",
       "      <th></th>\n",
       "      <th>PANGENOME_VARIATION_ID</th>\n",
       "      <th>FIRST_SAMPLE</th>\n",
       "      <th>SECOND_SAMPLE</th>\n",
       "    </tr>\n",
       "  </thead>\n",
       "  <tbody>\n",
       "    <tr>\n",
       "      <th>0</th>\n",
       "      <td>0</td>\n",
       "      <td>CFT073</td>\n",
       "      <td>H131800734</td>\n",
       "    </tr>\n",
       "    <tr>\n",
       "      <th>1</th>\n",
       "      <td>1</td>\n",
       "      <td>CFT073</td>\n",
       "      <td>H131800734</td>\n",
       "    </tr>\n",
       "    <tr>\n",
       "      <th>2</th>\n",
       "      <td>2</td>\n",
       "      <td>CFT073</td>\n",
       "      <td>H131800734</td>\n",
       "    </tr>\n",
       "    <tr>\n",
       "      <th>3</th>\n",
       "      <td>3</td>\n",
       "      <td>CFT073</td>\n",
       "      <td>H131800734</td>\n",
       "    </tr>\n",
       "    <tr>\n",
       "      <th>4</th>\n",
       "      <td>4</td>\n",
       "      <td>CFT073</td>\n",
       "      <td>H131800734</td>\n",
       "    </tr>\n",
       "    <tr>\n",
       "      <th>...</th>\n",
       "      <td>...</td>\n",
       "      <td>...</td>\n",
       "      <td>...</td>\n",
       "    </tr>\n",
       "    <tr>\n",
       "      <th>91946</th>\n",
       "      <td>92002</td>\n",
       "      <td>CFT073</td>\n",
       "      <td>H131800734</td>\n",
       "    </tr>\n",
       "    <tr>\n",
       "      <th>91947</th>\n",
       "      <td>92003</td>\n",
       "      <td>CFT073</td>\n",
       "      <td>H131800734</td>\n",
       "    </tr>\n",
       "    <tr>\n",
       "      <th>91948</th>\n",
       "      <td>92004</td>\n",
       "      <td>CFT073</td>\n",
       "      <td>H131800734</td>\n",
       "    </tr>\n",
       "    <tr>\n",
       "      <th>91949</th>\n",
       "      <td>92005</td>\n",
       "      <td>CFT073</td>\n",
       "      <td>H131800734</td>\n",
       "    </tr>\n",
       "    <tr>\n",
       "      <th>91950</th>\n",
       "      <td>92006</td>\n",
       "      <td>CFT073</td>\n",
       "      <td>H131800734</td>\n",
       "    </tr>\n",
       "  </tbody>\n",
       "</table>\n",
       "<p>91951 rows × 3 columns</p>\n",
       "</div>"
      ],
      "text/plain": [
       "       PANGENOME_VARIATION_ID FIRST_SAMPLE SECOND_SAMPLE\n",
       "0                           0       CFT073    H131800734\n",
       "1                           1       CFT073    H131800734\n",
       "2                           2       CFT073    H131800734\n",
       "3                           3       CFT073    H131800734\n",
       "4                           4       CFT073    H131800734\n",
       "...                       ...          ...           ...\n",
       "91946                   92002       CFT073    H131800734\n",
       "91947                   92003       CFT073    H131800734\n",
       "91948                   92004       CFT073    H131800734\n",
       "91949                   92005       CFT073    H131800734\n",
       "91950                   92006       CFT073    H131800734\n",
       "\n",
       "[91951 rows x 3 columns]"
      ]
     },
     "execution_count": 59,
     "metadata": {},
     "output_type": "execute_result"
    }
   ],
   "source": [
    "two_SNP_heatmap_df = pd.read_csv(snakemake.input.two_SNP_heatmap_csv)\n",
    "samples = snakemake.params.samples\n",
    "two_SNP_heatmap_df"
   ]
  },
  {
   "cell_type": "code",
   "execution_count": 70,
   "metadata": {},
   "outputs": [],
   "source": [
    "samples_ordered_by_clade = [\n",
    "                # A\n",
    "                \"Escherichia_coli_MSB1_9D\",\n",
    "                \"H131800734\",\n",
    "                \"Escherichia_coli_MINF_8D\",\n",
    "                \"Escherichia_coli_MSB1_1A\",\n",
    "                \"Escherichia_coli_MSB1_8G\",\n",
    "  \n",
    "                # B1\n",
    "                \"Escherichia_coli_MSB1_4E\",\n",
    "                \"063_STEC\",\n",
    "                \"CFT073\",\n",
    "                \"Escherichia_coli_MSB2_1A\",\n",
    "                \"Escherichia_coli_MINF_1D\",\n",
    "               \n",
    "                # D\n",
    "                \"Escherichia_coli_MSB1_7C\",\n",
    "                \"Escherichia_coli_MINF_7C\",\n",
    "                \"Escherichia_coli_MSB1_6C\",\n",
    "                \"ST38\",\n",
    "                \"Escherichia_coli_MSB1_7A\",\n",
    "                \"Escherichia_coli_MSB1_3B\",\n",
    "                \n",
    "                # F\n",
    "                \"Escherichia_coli_MSB1_4I\",\n",
    "                \"Escherichia_coli_MINF_1A\",\n",
    "                \"Escherichia_coli_MINF_9A\",\n",
    "                \"Escherichia_coli_MSB1_8B\",\n",
    "]\n",
    "\n",
    "sample_to_colour = {\n",
    "                # A\n",
    "                \"Escherichia_coli_MSB1_9D\" : \"#FF00FF\",\n",
    "                \"H131800734\" : \"#FF00FF\",\n",
    "                \"Escherichia_coli_MINF_8D\" : \"#FF00FF\",\n",
    "                \"Escherichia_coli_MSB1_1A\" : \"#FF00FF\",\n",
    "                \"Escherichia_coli_MSB1_8G\" : \"#FF00FF\",\n",
    "  \n",
    "                # B1\n",
    "                \"Escherichia_coli_MSB1_4E\" : \"#00ceffff\",\n",
    "                \"063_STEC\" : \"#00ceffff\",\n",
    "                \"CFT073\" : \"#00ceffff\",\n",
    "                \"Escherichia_coli_MSB2_1A\" : \"#00ceffff\",\n",
    "                \"Escherichia_coli_MINF_1D\" : \"#00ceffff\", \n",
    "               \n",
    "                # D\n",
    "                \"Escherichia_coli_MSB1_7C\" : \"#008000ff\",\n",
    "                \"Escherichia_coli_MINF_7C\" : \"#008000ff\",\n",
    "                \"Escherichia_coli_MSB1_6C\" : \"#008000ff\",\n",
    "                \"ST38\" : \"#008000ff\",\n",
    "                \"Escherichia_coli_MSB1_7A\" : \"#008000ff\",\n",
    "                \"Escherichia_coli_MSB1_3B\" : \"#008000ff\",\n",
    "                \n",
    "                # F\n",
    "                \"Escherichia_coli_MSB1_4I\" : \"#FF0000\",\n",
    "                \"Escherichia_coli_MINF_1A\" : \"#FF0000\",\n",
    "                \"Escherichia_coli_MINF_9A\" : \"#FF0000\",\n",
    "                \"Escherichia_coli_MSB1_8B\" : \"#FF0000\"\n",
    "}"
   ]
  },
  {
   "cell_type": "code",
   "execution_count": null,
   "metadata": {},
   "outputs": [],
   "source": [
    "# sort samples according to their order in samples_ordered_by_clade\n",
    "samples = [sample for sample in samples_ordered_by_clade if sample in samples]\n",
    "samples"
   ]
  },
  {
   "cell_type": "code",
   "execution_count": 63,
   "metadata": {},
   "outputs": [
    {
     "data": {
      "text/html": [
       "<div>\n",
       "<style scoped>\n",
       "    .dataframe tbody tr th:only-of-type {\n",
       "        vertical-align: middle;\n",
       "    }\n",
       "\n",
       "    .dataframe tbody tr th {\n",
       "        vertical-align: top;\n",
       "    }\n",
       "\n",
       "    .dataframe thead th {\n",
       "        text-align: right;\n",
       "    }\n",
       "</style>\n",
       "<table border=\"1\" class=\"dataframe\">\n",
       "  <thead>\n",
       "    <tr style=\"text-align: right;\">\n",
       "      <th></th>\n",
       "      <th></th>\n",
       "      <th>count</th>\n",
       "    </tr>\n",
       "    <tr>\n",
       "      <th>FIRST_SAMPLE</th>\n",
       "      <th>SECOND_SAMPLE</th>\n",
       "      <th></th>\n",
       "    </tr>\n",
       "  </thead>\n",
       "  <tbody>\n",
       "    <tr>\n",
       "      <th>CFT073</th>\n",
       "      <th>H131800734</th>\n",
       "      <td>91951</td>\n",
       "    </tr>\n",
       "  </tbody>\n",
       "</table>\n",
       "</div>"
      ],
      "text/plain": [
       "                            count\n",
       "FIRST_SAMPLE SECOND_SAMPLE       \n",
       "CFT073       H131800734     91951"
      ]
     },
     "execution_count": 63,
     "metadata": {},
     "output_type": "execute_result"
    }
   ],
   "source": [
    "two_SNP_heatmap_df = two_SNP_heatmap_df.groupby([\"FIRST_SAMPLE\", \"SECOND_SAMPLE\"]).count().rename(columns={\"PANGENOME_VARIATION_ID\": \"count\"})\n",
    "two_SNP_heatmap_df"
   ]
  },
  {
   "cell_type": "code",
   "execution_count": 64,
   "metadata": {},
   "outputs": [
    {
     "data": {
      "text/plain": [
       "array([[ 0, 47],\n",
       "       [47,  0]], dtype=uint8)"
      ]
     },
     "execution_count": 64,
     "metadata": {},
     "output_type": "execute_result"
    }
   ],
   "source": [
    "count_matrix = np.zeros((len(samples), len(samples)), dtype=np.uint8)\n",
    "for i, sample_i in enumerate(samples):\n",
    "    for j, sample_j in enumerate(samples):\n",
    "        if i != j:\n",
    "            smaller_sample = min(sample_i, sample_j)\n",
    "            larger_sample = max(sample_i, sample_j)        \n",
    "            try: \n",
    "                count_matrix[i,j] = two_SNP_heatmap_df.xs((smaller_sample, larger_sample))[\"count\"]\n",
    "            except KeyError:\n",
    "                count_matrix[i,j] = 0\n",
    "            \n",
    "count_matrix"
   ]
  },
  {
   "cell_type": "code",
   "execution_count": 80,
   "metadata": {},
   "outputs": [
    {
     "data": {
      "image/png": "[encoded data removed]",
      "text/plain": [
       "<Figure size 432x288 with 2 Axes>"
      ]
     },
     "execution_count": 80,
     "metadata": {},
     "output_type": "execute_result"
    },
    {
     "data": {
      "image/png": "[encoded data removed]",
      "text/plain": [
       "<Figure size 432x288 with 2 Axes>"
      ]
     },
     "metadata": {},
     "output_type": "display_data"
    }
   ],
   "source": [
    "ax = sns.heatmap(count_matrix, xticklabels=samples, yticklabels=samples, cmap=\"Reds\")\n",
    "for tick in ax.get_xticklabels():\n",
    "    tick.set_color(sample_to_colour[tick._text])\n",
    "for tick in ax.get_yticklabels():\n",
    "    tick.set_color(sample_to_colour[tick._text])\n",
    "fig = ax.get_figure()\n",
    "fig.savefig(snakemake.output.two_SNP_heatmap_plot)\n",
    "fig"
   ]
  }
 ],
 "metadata": {
  "kernelspec": {
   "display_name": "Python 3",
   "language": "python",
   "name": "python3"
  },
  "language_info": {
   "codemirror_mode": {
    "name": "ipython",
    "version": 3
   },
   "file_extension": ".py",
   "mimetype": "text/x-python",
   "name": "python",
   "nbconvert_exporter": "python",
   "pygments_lexer": "ipython3",
   "version": "3.7.3"
  }
 },
 "nbformat": 4,
 "nbformat_minor": 4
}
